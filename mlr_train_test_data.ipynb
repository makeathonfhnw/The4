{
 "cells": [
  {
   "cell_type": "code",
   "execution_count": 30,
   "metadata": {},
   "outputs": [
    {
     "data": {
      "text/html": [
       "<div>\n",
       "<style scoped>\n",
       "    .dataframe tbody tr th:only-of-type {\n",
       "        vertical-align: middle;\n",
       "    }\n",
       "\n",
       "    .dataframe tbody tr th {\n",
       "        vertical-align: top;\n",
       "    }\n",
       "\n",
       "    .dataframe thead th {\n",
       "        text-align: right;\n",
       "    }\n",
       "</style>\n",
       "<table border=\"1\" class=\"dataframe\">\n",
       "  <thead>\n",
       "    <tr style=\"text-align: right;\">\n",
       "      <th></th>\n",
       "      <th>rating</th>\n",
       "      <th>content</th>\n",
       "      <th>language_prob</th>\n",
       "      <th>lencontent</th>\n",
       "      <th>Positive</th>\n",
       "      <th>Negative</th>\n",
       "      <th>Neutral</th>\n",
       "    </tr>\n",
       "  </thead>\n",
       "  <tbody>\n",
       "    <tr>\n",
       "      <th>0</th>\n",
       "      <td>3</td>\n",
       "      <td>Übersicht: Bitte wieder konto gesamt übersicht...</td>\n",
       "      <td>de</td>\n",
       "      <td>63</td>\n",
       "      <td>0.009495</td>\n",
       "      <td>0.990329</td>\n",
       "      <td>0.000176</td>\n",
       "    </tr>\n",
       "    <tr>\n",
       "      <th>1</th>\n",
       "      <td>2</td>\n",
       "      <td>Super verschlimmbessert: Waren gerade alle UI ...</td>\n",
       "      <td>de</td>\n",
       "      <td>199</td>\n",
       "      <td>0.009758</td>\n",
       "      <td>0.989411</td>\n",
       "      <td>0.000831</td>\n",
       "    </tr>\n",
       "    <tr>\n",
       "      <th>2</th>\n",
       "      <td>1</td>\n",
       "      <td>Ein Rückschritt: Die alte Postfinanceapp (vor ...</td>\n",
       "      <td>de</td>\n",
       "      <td>490</td>\n",
       "      <td>0.016722</td>\n",
       "      <td>0.983143</td>\n",
       "      <td>0.000135</td>\n",
       "    </tr>\n",
       "    <tr>\n",
       "      <th>3</th>\n",
       "      <td>1</td>\n",
       "      <td>Gute Funktionen verschwunden: Saldoverlauf, Li...</td>\n",
       "      <td>de</td>\n",
       "      <td>237</td>\n",
       "      <td>0.008897</td>\n",
       "      <td>0.990476</td>\n",
       "      <td>0.000627</td>\n",
       "    </tr>\n",
       "    <tr>\n",
       "      <th>4</th>\n",
       "      <td>1</td>\n",
       "      <td>Bitte gebt uns die Gesamtansicht der Konten zu...</td>\n",
       "      <td>de</td>\n",
       "      <td>239</td>\n",
       "      <td>0.007276</td>\n",
       "      <td>0.992667</td>\n",
       "      <td>0.000057</td>\n",
       "    </tr>\n",
       "  </tbody>\n",
       "</table>\n",
       "</div>"
      ],
      "text/plain": [
       "   rating                                            content language_prob  \\\n",
       "0       3  Übersicht: Bitte wieder konto gesamt übersicht...            de   \n",
       "1       2  Super verschlimmbessert: Waren gerade alle UI ...            de   \n",
       "2       1  Ein Rückschritt: Die alte Postfinanceapp (vor ...            de   \n",
       "3       1  Gute Funktionen verschwunden: Saldoverlauf, Li...            de   \n",
       "4       1  Bitte gebt uns die Gesamtansicht der Konten zu...            de   \n",
       "\n",
       "   lencontent  Positive  Negative   Neutral  \n",
       "0          63  0.009495  0.990329  0.000176  \n",
       "1         199  0.009758  0.989411  0.000831  \n",
       "2         490  0.016722  0.983143  0.000135  \n",
       "3         237  0.008897  0.990476  0.000627  \n",
       "4         239  0.007276  0.992667  0.000057  "
      ]
     },
     "execution_count": 30,
     "metadata": {},
     "output_type": "execute_result"
    }
   ],
   "source": [
    "# Sklearn module importieren\n",
    "from sklearn.linear_model import LinearRegression, LogisticRegression\n",
    "from sklearn.model_selection import train_test_split\n",
    "from sklearn.metrics import mean_squared_error\n",
    "import numpy as np\n",
    "import pandas as pd\n",
    "import matplotlib.pyplot as plt\n",
    "import seaborn as sns\n",
    "# Daten einlesen\n",
    "df = pd.read_csv(\"data/app_play_trainset.csv\") # Sentimental Anlaysis of App and Playstore reviews\n",
    "df.head()"
   ]
  },
  {
   "cell_type": "code",
   "execution_count": 20,
   "metadata": {},
   "outputs": [
    {
     "name": "stdout",
     "output_type": "stream",
     "text": [
      "<class 'pandas.core.frame.DataFrame'>\n",
      "RangeIndex: 9778 entries, 0 to 9777\n",
      "Data columns (total 7 columns):\n",
      " #   Column         Non-Null Count  Dtype  \n",
      "---  ------         --------------  -----  \n",
      " 0   rating         9778 non-null   float64\n",
      " 1   content        9747 non-null   object \n",
      " 2   language_prob  9698 non-null   object \n",
      " 3   lencontent     9778 non-null   int64  \n",
      " 4   Positive       9778 non-null   float64\n",
      " 5   Negative       9778 non-null   float64\n",
      " 6   Neutral        9778 non-null   float64\n",
      "dtypes: float64(4), int64(1), object(2)\n",
      "memory usage: 534.9+ KB\n"
     ]
    }
   ],
   "source": [
    "# change rating datatyp to float\n",
    "df['rating'] = df['rating'].astype(float)\n",
    "df.info()"
   ]
  },
  {
   "cell_type": "code",
   "execution_count": 26,
   "metadata": {},
   "outputs": [
    {
     "name": "stdout",
     "output_type": "stream",
     "text": [
      "Train data shape:  (7822, 7)\n",
      "Test data shape:  (1956, 7)\n"
     ]
    }
   ],
   "source": [
    "# splitting dataframe into train and test data\n",
    "train, test = train_test_split(df, test_size=0.2, random_state=42)\n",
    "print(\"Train data shape: \", train.shape)\n",
    "print(\"Test data shape: \", test.shape)\n"
   ]
  },
  {
   "cell_type": "code",
   "execution_count": 27,
   "metadata": {},
   "outputs": [],
   "source": [
    "train_X = train[[\"Positive\", \"Negative\", \"Neutral\"]]\n",
    "train_y = train[\"rating\"]\n",
    "\n",
    "test_X = test[[\"Positive\", \"Negative\", \"Neutral\"]]\n",
    "test_y = test[\"rating\"]"
   ]
  },
  {
   "cell_type": "code",
   "execution_count": 31,
   "metadata": {},
   "outputs": [
    {
     "name": "stdout",
     "output_type": "stream",
     "text": [
      "Test score:  0.49489870071831354\n"
     ]
    }
   ],
   "source": [
    "# Model Linear Regression\n",
    "model = LinearRegression()\n",
    "model.fit(train_X, train_y)\n",
    "\n",
    "# Model evaluation\n",
    "test_pred = np.round(model.predict(test_X))\n",
    "\n",
    "# Score calculation\n",
    "test_score = model.score(test_X, test_y)\n",
    "\n",
    "# get test_score result\n",
    "print(\"Test score: \", test_score)\n"
   ]
  },
  {
   "cell_type": "code",
   "execution_count": 32,
   "metadata": {},
   "outputs": [
    {
     "name": "stdout",
     "output_type": "stream",
     "text": [
      "Test score:  0.6579754601226994\n"
     ]
    }
   ],
   "source": [
    "# Model logistische Regression\n",
    "model = LogisticRegression()\n",
    "model.fit(train_X, train_y)\n",
    "\n",
    "# Model evaluation\n",
    "test_pred = np.round(model.predict(test_X))\n",
    "\n",
    "# Score calculation\n",
    "test_score = model.score(test_X, test_y)\n",
    "\n",
    "# get test_score result\n",
    "print(\"Test score: \", test_score)"
   ]
  },
  {
   "cell_type": "code",
   "execution_count": null,
   "metadata": {},
   "outputs": [],
   "source": [
    "# "
   ]
  },
  {
   "cell_type": "code",
   "execution_count": 34,
   "metadata": {},
   "outputs": [
    {
     "name": "stdout",
     "output_type": "stream",
     "text": [
      "Test score:  0.656441717791411\n"
     ]
    }
   ],
   "source": [
    "# Ohter Logistic Regression\n",
    "model = LogisticRegression(solver='liblinear', multi_class='ovr')\n",
    "model.fit(train_X, train_y)\n",
    "\n",
    "# Model evaluation\n",
    "test_pred = np.round(model.predict(test_X))\n",
    "\n",
    "# Score calculation\n",
    "test_score = model.score(test_X, test_y)\n",
    "\n",
    "# get test_score result\n",
    "print(\"Test score: \", test_score)\n"
   ]
  },
  {
   "cell_type": "code",
   "execution_count": 17,
   "metadata": {},
   "outputs": [
    {
     "data": {
      "text/plain": [
       "array([2., 5., 2., ..., 2., 2., 2.])"
      ]
     },
     "execution_count": 17,
     "metadata": {},
     "output_type": "execute_result"
    }
   ],
   "source": [
    "test_pred \n"
   ]
  },
  {
   "cell_type": "code",
   "execution_count": 16,
   "metadata": {},
   "outputs": [
    {
     "data": {
      "text/plain": [
       "array([2., 5., 2., ..., 2., 2., 2.])"
      ]
     },
     "execution_count": 16,
     "metadata": {},
     "output_type": "execute_result"
    }
   ],
   "source": [
    "test_pred"
   ]
  },
  {
   "cell_type": "code",
   "execution_count": 14,
   "metadata": {},
   "outputs": [
    {
     "data": {
      "text/plain": [
       "0.49489870071831354"
      ]
     },
     "execution_count": 14,
     "metadata": {},
     "output_type": "execute_result"
    }
   ],
   "source": []
  },
  {
   "cell_type": "code",
   "execution_count": null,
   "metadata": {},
   "outputs": [],
   "source": [
    "\n",
    "# Model performance\n",
    "print(\"Train RMSE: \", np.sqrt(mean_squared_error(train_y, train_pred)))\n",
    "print(\"Test RMSE: \", np.sqrt(mean_squared_error(test_y, test_pred)))\n",
    "\n",
    "# Model performance visualization\n",
    "plt.figure(figsize=(10, 5))\n",
    "plt.subplot(1, 2, 1)\n",
    "plt.scatter(train_y, train_pred)\n",
    "plt.xlabel(\"Actual\")\n",
    "plt.ylabel(\"Predicted\")\n",
    "plt.title(\"Train data\")\n",
    "\n",
    "plt.subplot(1, 2, 2)\n",
    "plt.scatter(test_y, test_pred)\n",
    "plt.xlabel(\"Actual\")\n",
    "plt.ylabel(\"Predicted\")\n",
    "plt.title(\"Test data\")\n",
    "plt.show()\n"
   ]
  },
  {
   "cell_type": "code",
   "execution_count": null,
   "metadata": {},
   "outputs": [],
   "source": []
  }
 ],
 "metadata": {
  "kernelspec": {
   "display_name": "Python 3.9.7 ('daw')",
   "language": "python",
   "name": "python3"
  },
  "language_info": {
   "codemirror_mode": {
    "name": "ipython",
    "version": 3
   },
   "file_extension": ".py",
   "mimetype": "text/x-python",
   "name": "python",
   "nbconvert_exporter": "python",
   "pygments_lexer": "ipython3",
   "version": "3.9.7"
  },
  "orig_nbformat": 4,
  "vscode": {
   "interpreter": {
    "hash": "7f5ce21809bca5c0e78a4831eb8ed5cc646a6efe2f94e6049cccdf86a4a6d729"
   }
  }
 },
 "nbformat": 4,
 "nbformat_minor": 2
}
